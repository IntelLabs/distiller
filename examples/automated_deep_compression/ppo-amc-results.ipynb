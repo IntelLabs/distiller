{
 "cells": [
  {
   "cell_type": "markdown",
   "metadata": {
    "slideshow": {
     "slide_type": "slide"
    }
   },
   "source": [
    "# Using Clipped PPO for Automated Model Compression\n",
    "\n",
    "\n",
    "Continuing on the work of [AMC](https://arxiv.org/abs/1802.03494) we replace DDPG with Clipped PPO.\n",
    "\n",
    "Results are interesting and encouraging as there is learning.  However, this is less sample-efficient compared to DDPG, and therefore takes longer.\n",
    "\n",
    "We search for a 50%-MACs-constrained (FLOPs-constrained) Plain20.  From Greedy Search algorithm we know that there exists a 50%-MACs-constrained Plain20 that can provide Top1=90%.  The current fine-tuned Plain20 model from our PPO experiments has a Top1=89%."
   ]
  },
  {
   "cell_type": "markdown",
   "metadata": {},
   "source": [
    "## Experiment setup\n",
    "\n",
    "\n",
    "### Clipped PPO configuration\n",
    "\n",
    "### Distiller Clipped PPO AMC experiments\n"
   ]
  },
  {
   "cell_type": "markdown",
   "metadata": {},
   "source": [
    "## Notebook code\n",
    "\n",
    "Skip this part - it is necessary only for creating the diagrams.  You may also toggle the code-view button."
   ]
  },
  {
   "cell_type": "code",
   "execution_count": null,
   "metadata": {},
   "outputs": [],
   "source": [
    "from IPython.display import HTML\n",
    "HTML('''<script>\n",
    "code_show=true; \n",
    "function code_toggle() {\n",
    " if (code_show){\n",
    " $('div.input').hide();\n",
    " } else {\n",
    " $('div.input').show();\n",
    " }\n",
    " code_show = !code_show\n",
    "} \n",
    "$( document ).ready(code_toggle);\n",
    "</script>\n",
    "<form action=\"javascript:code_toggle()\"><input type=\"submit\" value=\"Click here to toggle on/off code view\"></form>''')"
   ]
  },
  {
   "cell_type": "code",
   "execution_count": null,
   "metadata": {},
   "outputs": [],
   "source": [
    "%matplotlib inline\n",
    "\n",
    "import numpy as np\n",
    "import pandas as pd \n",
    "import matplotlib.pyplot as plt\n",
    "import matplotlib \n",
    "import csv\n",
    "from matplotlib.ticker import FuncFormatter\n",
    "import ipywidgets as widgets\n",
    "from ipywidgets import interactive, interact, Layout\n",
    "import matplotlib.pylab as pylab\n",
    "import matplotlib.animation as animation\n",
    "from matplotlib import animation, rc\n",
    "\n",
    "\n",
    "\n",
    "#plt.style.use('seaborn') # pretty matplotlib plots\n",
    "\n",
    "params = {'legend.fontsize': 'x-large',\n",
    "          'figure.figsize': (15, 7),\n",
    "          'axes.labelsize': 'x-large',\n",
    "          'axes.titlesize':'xx-large',\n",
    "          'xtick.labelsize':'x-large',\n",
    "          'ytick.labelsize':'x-large'}\n",
    "pylab.rcParams.update(params)\n",
    "\n",
    "\n",
    "def to_percent(y, position):\n",
    "    # Ignore the passed in position. This has the effect of scaling the default\n",
    "    # tick locations.\n",
    "    if y < 1:\n",
    "        y = 100 * y\n",
    "    s = \"{:.1f}\".format(y)\n",
    "\n",
    "    # The percent symbol needs escaping in latex\n",
    "    if matplotlib.rcParams['text.usetex'] is True:\n",
    "        return s + r'$\\%$'\n",
    "    else:\n",
    "        return s + '%'\n",
    "    \n",
    "# Widen the cells to get entire rows in the screen.\n",
    "from IPython.core.display import display, HTML\n",
    "#display(HTML(\"<style>.container { width:100% !important; }</style>\"))\n",
    "\n",
    "\n",
    "def plot_layer_densities(df, idx, action_type='action_history', ax=None, color=None):\n",
    "    if ax is None:\n",
    "        plt.figure()\n",
    "        ax = plt\n",
    "    \n",
    "    record = df.iloc[idx]\n",
    "    layer_sparsities = record[action_type]\n",
    "    layer_sparsities = layer_sparsities[1:-1].split(\",\")\n",
    "    layer_densities = [1.- float(sparsity) for sparsity in layer_sparsities]\n",
    "    ax.bar(range(len(layer_densities)), layer_densities, color=color)\n",
    "    ax.set_title(\"Ep:{} - Top1:{:.1f}%\\nMACs:{:.1f}%\".format(record['episode'], \n",
    "                                                             record['top1'], \n",
    "                                                             record['normalized_macs']))\n",
    "    \n",
    "    \n",
    "def smooth(data, win_size):\n",
    "    win_size = max(1, win_size)\n",
    "    return [np.mean(data[max(0, i-win_size):i]) for i in range(len(data))]\n",
    "\n",
    "\n",
    "def plot_performance(alpha, window_size, top1, macs, params, reward, start=0, end=-1):\n",
    "    plot_kwargs = {\"figsize\":(15,7), \"lw\": 1, \"alpha\": alpha, \"title\": \"Performance Data\"}\n",
    "    smooth_kwargs = {\"lw\": 2 if window_size > 0 else 1, \"legend\": True}\n",
    "    if macs:\n",
    "        ax = df['normalized_macs'][start:end].plot(**plot_kwargs, color=\"r\")\n",
    "        ax.set(xlabel=\"Episode\", ylabel=\"(%)\")\n",
    "        #ax.set_ylim([0,100])\n",
    "        df['smooth_normalized_macs'] = smooth(df['normalized_macs'], window_size)\n",
    "        df['smooth_normalized_macs'][start:end].plot(**smooth_kwargs, color=\"r\")\n",
    "    if top1:\n",
    "        ax = df['top1'][start:end].plot(**plot_kwargs, color=\"b\", grid=True)\n",
    "        ax.set(xlabel=\"Episode\", ylabel=\"(%)\")\n",
    "        df['smooth_top1'] = smooth(df['top1'], window_size)\n",
    "        df['smooth_top1'][start:end].plot(**smooth_kwargs, color=\"b\")\n",
    "    if params:\n",
    "        ax = df['normalized_nnz'][start:end].plot(**plot_kwargs, color=\"black\")\n",
    "        ax.set(xlabel=\"Episode\", ylabel=\"(%)\")\n",
    "        df['smooth_normalized_nnz'] = smooth(df['normalized_nnz'], window_size)\n",
    "        df['smooth_normalized_nnz'][start:end].plot(**smooth_kwargs, color=\"black\")        \n",
    "    if reward:\n",
    "        ax = df['reward'][start:end].plot(**plot_kwargs, secondary_y=True, color=\"g\")\n",
    "        ax.set(xlabel=\"Episode\", ylabel=\"reward\")\n",
    "        df['smooth_reward'] = smooth(df['reward'], window_size)\n",
    "        df['smooth_reward'][start:end].plot(**smooth_kwargs, secondary_y=True, color=\"g\")    \n",
    "    #ax.set_ylim([0,100])\n",
    "    ax.grid(True, which='minor', axis='x', alpha=0.3)\n",
    "        \n",
    "        \n",
    "def plot_2d_embeddings(top1, normalized_macs):\n",
    "    plt.figure(figsize=(15,7))        \n",
    "    plt.title('Projection of Discovered Networks ({})'.format(len(top1)))     \n",
    "    plt.xlabel('Normalized MACs')\n",
    "    plt.ylabel('Top1 Accuracy')\n",
    "\n",
    "    # Create the formatter using the function to_percent. This multiplies all the\n",
    "    # default labels by 100, making them all percentages\n",
    "    formatter = FuncFormatter(to_percent)\n",
    "\n",
    "    # Set the formatter\n",
    "    plt.gca().yaxis.set_major_formatter(formatter)\n",
    "    plt.gca().xaxis.set_major_formatter(formatter)\n",
    "\n",
    "    # Use color gradients to show the \"age\" of the network:\n",
    "    # Lighter networks were discovered earlier than darker ones.\n",
    "    color_grad = [str(1-i/len(top1)) for i in range(len(top1))]\n",
    "    plt.scatter(normalized_macs, top1, color=color_grad, s=80, edgecolors='gray');\n",
    "\n",
    "    \n",
    "INTERVAL = 30 # Animation speed\n",
    "WINDOW = 20\n",
    "\n",
    "font = {'family': 'serif',\n",
    "        'color':  'darkred',\n",
    "        'weight': 'normal',\n",
    "        'alpha': 0.50,\n",
    "        'size': 32,\n",
    "        }\n",
    "\n",
    "# Based on these two helpful example code: \n",
    "# https://stackoverflow.com/questions/9401658/how-to-animate-a-scatter-plot\n",
    "# http://louistiao.me/posts/notebooks/embedding-matplotlib-animations-in-jupyter-notebooks/.\n",
    "# Specifically, the use of IPython.display is missing from the first example, but most of the animation code\n",
    "# leverages code from there.\n",
    "class AnimatedScatter(object):\n",
    "    \"\"\"An animated scatter plot using matplotlib.animations.FuncAnimation.\"\"\"\n",
    "    def __init__(self, xdata, ydata):\n",
    "        assert len(xdata) == len(ydata)\n",
    "        self.numpoints = len(xdata)\n",
    "        self.xdata = xdata\n",
    "        self.ydata = ydata\n",
    "        self.stream = self.data_stream()\n",
    "\n",
    "        # Setup the figure and axes...\n",
    "        self.fig, self.ax = plt.subplots(figsize=(15,7))\n",
    "        # Then setup FuncAnimation.\n",
    "        self.ani = animation.FuncAnimation(self.fig, self.update, interval=INTERVAL,\n",
    "                                           frames=self.numpoints-2, \n",
    "                                           init_func=self.setup_plot, blit=True)\n",
    "\n",
    "    def setup_plot(self):\n",
    "        \"\"\"Initialize drawing of the scatter plot.\"\"\"\n",
    "        x, y, s, c = next(self.stream)\n",
    "        #self.annot = self.ax.annotate(\"txt\", (10, 10))\n",
    "        self.scat = self.ax.scatter(x, y, c=c, s=s, animated=False)\n",
    "        self.scat.set_edgecolors('gray')\n",
    "        self.scat.set_cmap('gray')\n",
    "        self.width = max(self.xdata) - min(self.xdata) + 4\n",
    "        self.height = max(self.ydata) - min(self.ydata) + 4\n",
    "        self.ax.axis([min(self.xdata)-2, max(self.xdata)+2, \n",
    "                      min(self.ydata)-2, max(self.ydata)+2])\n",
    "        \n",
    "        self.annot = self.ax.text(min(self.xdata) + self.width/2, \n",
    "                     min(self.xdata) + self.height/2, \n",
    "                     \"\", fontdict=font)\n",
    "        # For FuncAnimation's sake, we need to return the artist we'll be using\n",
    "        # Note that it expects a sequence of artists, thus the trailing comma.\n",
    "        return self.scat, \n",
    "\n",
    "    def data_stream(self):\n",
    "        numpoints = 0#len(self.xdata)\n",
    "        colors = []\n",
    "        xxx = 0\n",
    "        while True:\n",
    "            numpoints += 1\n",
    "            win_len = min(WINDOW, numpoints)\n",
    "            data = np.ndarray((4, win_len))\n",
    "            start = max(0,numpoints-WINDOW-1)\n",
    "            data[0, :] = self.xdata[start:start+win_len]\n",
    "            data[1, :] = self.ydata[start:start+win_len]\n",
    "            data[2, :] = [70] * win_len  # point size\n",
    "            #data[3, :] = [np.random.random() for p in range(numpoints)]  # color\n",
    "            # The color of the points is a gradient with larger values for \"younger\" points.\n",
    "            # At each new frame we show one more point, and \"age\" each existing point by incrementaly  \n",
    "            # reducing its color gradient.\n",
    "            data[3, :] = [(1-i/(win_len+1)) for i in range(win_len)] \n",
    "            yield data\n",
    "\n",
    "    def update(self, i):      \n",
    "        \"\"\"Update the scatter plot.\"\"\"\n",
    "        data = next(self.stream)\n",
    "        self.annot.set_text(i)\n",
    "        i = i % len(data)\n",
    "            \n",
    "        # Set x and y data\n",
    "        xy = [(data[0,i], data[1,i]) for i in range(len(data[0,:]))]\n",
    "        self.scat.set_offsets(xy)\n",
    "        \n",
    "        # Set colors\n",
    "        self.scat.set_array(data[3])\n",
    "        \n",
    "        # We need to return the updated artist for FuncAnimation to draw..\n",
    "        # Note that it expects a sequence of artists, thus the trailing comma.\n",
    "        return self.scat, self.annot\n",
    "\n",
    "    def show(self):\n",
    "        plt.show()"
   ]
  },
  {
   "cell_type": "markdown",
   "metadata": {},
   "source": [
    "## Results\n",
    "\n",
    "Below I present the results of a single execution.  There is a substantial variance between the experiment executions, but most conclude similarly to this experiment."
   ]
  },
  {
   "cell_type": "markdown",
   "metadata": {},
   "source": [
    "### Read the results log files\n",
    "\n",
    "The code below reads the log file of your selected experiment.  To change the path to the file you will need to open the code cell and change its content."
   ]
  },
  {
   "cell_type": "code",
   "execution_count": null,
   "metadata": {
    "scrolled": false
   },
   "outputs": [],
   "source": [
    "pd.set_option('display.max_colwidth', 150)\n",
    "\n",
    "fname = \"sample_logs/clipped_ppo/macs_constrained_clipped-ppo.amc.csv\"\n",
    "fname = \"../classifier_compression/logs_stash/resnet56-amc___2019.02.01-053412/amc.csv\"\n",
    "#fname = \"../classifier_compression/logs/resnet20___2019.01.29-102912/amc.csv\"\n",
    "#fname = \"../classifier_compression/logs/resnet56-amc-0.1_epoch___2019.02.02-212945/amc.csv\"\n",
    "#fname = \"../classifier_compression/logs/resnet20___2019.02.03-210001/amc.csv\"\n",
    "#fname = \"../classifier_compression/logs_stash/plain20-amc-random-2___2019.02.06-063954/amc.csv\"\n",
    "fname = \"../classifier_compression/logs/ame=plain20-amc-reconstruct___2019.02.22-180846/amc.csv\"\n",
    "#fname = \"../classifier_compression/logs/plain20-90.84_top1-amc___2019.02.23-143702/amc.csv\"\n",
    "\n",
    "df = pd.read_csv(fname)\n"
   ]
  },
  {
   "cell_type": "markdown",
   "metadata": {},
   "source": [
    "### Plot experiment performance"
   ]
  },
  {
   "cell_type": "code",
   "execution_count": null,
   "metadata": {
    "scrolled": false,
    "slideshow": {
     "slide_type": "slide"
    }
   },
   "outputs": [],
   "source": [
    "plt.figure(figsize=(15,7))\n",
    "#print(plt.style.available)\n",
    "#plt.style.use('bmh')\n",
    "\n",
    "@interact(window_size=(0,50,5), top1=True, macs=True, params=False, reward=True)\n",
    "def plot_performance_proxy(window_size=10, top1=True, macs=True, params=False, reward=True):\n",
    "    plot_performance(0.15, window_size, top1, macs, params, reward)"
   ]
  },
  {
   "cell_type": "code",
   "execution_count": null,
   "metadata": {
    "slideshow": {
     "slide_type": "slide"
    }
   },
   "outputs": [],
   "source": [
    "plot_performance(0.15, window_size=20, top1=True, macs=True, params=False, reward=True, start=0, end=1000)"
   ]
  },
  {
   "cell_type": "markdown",
   "metadata": {
    "slideshow": {
     "slide_type": "slide"
    }
   },
   "source": [
    "What do we see?\n",
    "- If we zoom in on the first 600 episodes, we see how the reward starts rising as the agent learns to retain as many compute resources (MACs) as possible.  Does this occur with other models?\n"
   ]
  },
  {
   "cell_type": "markdown",
   "metadata": {
    "slideshow": {
     "slide_type": "subslide"
    }
   },
   "source": [
    "### Sample some networks\n",
    "\n",
    "Let's look at the networks with the best top1 accuracy, and see if they share geometrical attributes.\n",
    "\n",
    "We sort the discovered networks by their Top1 accuracy and display the density of each layer in the networks.  "
   ]
  },
  {
   "cell_type": "code",
   "execution_count": null,
   "metadata": {
    "scrolled": false,
    "slideshow": {
     "slide_type": "slide"
    }
   },
   "outputs": [],
   "source": [
    "top1_sorted_df = df.sort_values(by=['reward'], ascending=False)\n",
    "nrows = 2; ncols = 4\n",
    "f, axarr = plt.subplots(nrows, ncols, figsize=(15,7))\n",
    "for i in range(0, nrows * ncols):\n",
    "    plot_layer_densities(top1_sorted_df, i, ax=axarr[i//ncols, i%ncols], color='g')\n",
    "    # Fine-tune figure; make subplots farther from each other.\n",
    "    f.subplots_adjust(hspace=0.6, wspace=0.4)\n",
    "\n",
    "#pd.set_option('display.max_colwidth', -1)"
   ]
  },
  {
   "cell_type": "markdown",
   "metadata": {},
   "source": [
    "### Per-layer filter density distribution - top 10% networks"
   ]
  },
  {
   "cell_type": "code",
   "execution_count": null,
   "metadata": {},
   "outputs": [],
   "source": [
    "top10pct = top1_sorted_df[:int(len(df.index) * 0.1)]\n",
    "#top10pct = df[int(len(df.index) * 0.95):]\n",
    "\n",
    "layer_densities_list = []\n",
    "for index, row in top10pct.iterrows():\n",
    "    layer_sparsities = row['action_history']\n",
    "    layer_sparsities = layer_sparsities[1:-1].split(\",\")  # convert from string to list\n",
    "    layer_densities = [1. - float(sparsity) for sparsity in layer_sparsities]\n",
    "    layer_densities_list.append(layer_densities)\n",
    "\n",
    "layer_densities = np.array(layer_densities_list)\n",
    "mean = layer_densities.mean(axis=0)\n",
    "std = layer_densities.std(axis=0)\n",
    "\n",
    "\n",
    "# Draw the bar diagram of the layer densities\n",
    "fig, ax = plt.subplots(figsize=(15,7.5))\n",
    "ax.set_title(\"Best sampled models (90th percentile)\\nPer-layer filter density (mean and std)\")\n",
    "xpos = [i for i in range(len(mean))]\n",
    "ax.bar(xpos, mean, yerr=std, capsize=10, alpha=0.5, ecolor='black')\n",
    "ax.set_ylabel('Filter density')\n",
    "ax.set_xticks(xpos)\n",
    "#ax.set_xticklabels(layer_names)\n",
    "ax.yaxis.grid(True)\n",
    "#plt.tight_layout()\n",
    "plt.show()"
   ]
  },
  {
   "cell_type": "markdown",
   "metadata": {},
   "source": [
    "### Network 2D embeddings\n",
    "\n",
    "Let's create an embedding of the networks AMC discovers over the course of each experiment session.  Each network is projected onto a 2D plane mapping the Top1 accuracy versus the compute budget, and is represented by a small circle. I used gradient-color-coding to show the relative phase where each network is discovered.  Lighter circles are networks discovered early in the search, darker networks are discovered later."
   ]
  },
  {
   "cell_type": "code",
   "execution_count": null,
   "metadata": {
    "scrolled": false
   },
   "outputs": [],
   "source": [
    "top1 = df['top1']\n",
    "normalized_macs = df['normalized_macs']\n",
    "plot_2d_embeddings(top1, normalized_macs)"
   ]
  },
  {
   "cell_type": "markdown",
   "metadata": {},
   "source": [
    "### Video animation"
   ]
  },
  {
   "cell_type": "code",
   "execution_count": null,
   "metadata": {
    "scrolled": false
   },
   "outputs": [],
   "source": [
    "a = AnimatedScatter(normalized_macs, top1)\n",
    "plt.title('Projection of Discovered Networks ({})'.format(len(top1)))  \n",
    "plt.xlabel('Normalized MACs')\n",
    "plt.ylabel('Top1 Accuracy')\n",
    "#a.ani.save('amc_vgg16.mp4', fps=10, dpi=80) #Frame per second controls speed, dpi controls the quality \n",
    "rc('animation', html='html5')\n",
    "a.ani"
   ]
  },
  {
   "cell_type": "code",
   "execution_count": null,
   "metadata": {},
   "outputs": [],
   "source": [
    "# Relative import of code from distiller, w/o installing the package\n",
    "import os\n",
    "import sys\n",
    "module_path = os.path.abspath(os.path.join('../..'))\n",
    "if module_path not in sys.path:\n",
    "    sys.path.append(module_path)\n",
    "module_path = os.path.abspath(os.path.join('../../..'))\n",
    "if module_path not in sys.path:\n",
    "    sys.path.append(module_path)\n",
    "import models\n",
    "import distiller.utils\n",
    "import distiller\n",
    "import apputils.checkpoint \n",
    "from models import create_model\n",
    "    \n",
    "weights_model_a = create_model(False, 'cifar10', 'plain20_cifar')\n",
    "weights_model_b = create_model(False, 'cifar10', 'plain20_cifar')\n",
    "checkpoint_file = \"../examples/classifier_compression/checkpoint.plain20_cifar.pth.tar\"\n",
    "load_checkpoint(weights_model_a, checkpoint_file)\n",
    "#checkpoint_file = \"../examples/classifier_compression/logs/2019.02.23-130915/best.pth.tar\"\n",
    "checkpoint_file = \"../examples/classifier_compression/logs/2019.02.24-024349/best.pth.tar\"\n",
    "load_checkpoint(weights_model_b, checkpoint_file)\n",
    "\n",
    "params_names = conv_param_names(weights_model_a)\n",
    "\n",
    "def get_filter_l1mags(param):\n",
    "    view_filters = param.view(param.size(0), -1)\n",
    "    filter_size = view_filters.shape[1]\n",
    "    filter_mags_l1 = to_np(view_filters.norm(p=1, dim=1).div(filter_size))\n",
    "    return filter_mags_l1\n",
    "\n",
    "def view_weights(pname):\n",
    "    param_a = weights_model_a.state_dict()[pname]\n",
    "    filter_mags_l1_a = get_filter_l1mags(param_a)\n",
    "    \n",
    "    param_b = weights_model_b.state_dict()[pname]\n",
    "    filter_mags_l1_b = get_filter_l1mags(param_b)\n",
    "    \n",
    "#     std = np.std(filter_mags_l1)\n",
    "#     mean = np.mean(filter_mags_l1)\n",
    "    plt.figure(figsize=[15,7.5])\n",
    "    plt.hist(filter_mags_l1_a, alpha=0.5, label='a')\n",
    "    plt.hist(filter_mags_l1_b, alpha=0.5, label='b')\n",
    "#     plt.title(\"mean: {:.4f}  std: {:.4f}\".format(mean, std))\n",
    "    plt.xlabel('Normalized Fliter L1-norm')\n",
    "    plt.ylabel('Frequency')\n",
    "    plt.legend()\n",
    "\n",
    "params_dropdown = widgets.Dropdown(description='Weights:', options=params_names, layout=Layout(width='40%'))\n",
    "interact(view_weights, pname=params_dropdown);\n"
   ]
  },
  {
   "cell_type": "code",
   "execution_count": null,
   "metadata": {},
   "outputs": [],
   "source": []
  }
 ],
 "metadata": {
  "celltoolbar": "Slideshow",
  "kernelspec": {
   "display_name": "Python 3",
   "language": "python",
   "name": "python3"
  },
  "language_info": {
   "codemirror_mode": {
    "name": "ipython",
    "version": 3
   },
   "file_extension": ".py",
   "mimetype": "text/x-python",
   "name": "python",
   "nbconvert_exporter": "python",
   "pygments_lexer": "ipython3",
   "version": "3.6.7"
  }
 },
 "nbformat": 4,
 "nbformat_minor": 2
}
